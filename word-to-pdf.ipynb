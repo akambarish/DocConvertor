{
 "cells": [
  {
   "cell_type": "code",
   "execution_count": 1,
   "id": "be33d2ae-9c6b-482b-968b-ab90b42c9958",
   "metadata": {},
   "outputs": [
    {
     "name": "stdout",
     "output_type": "stream",
     "text": [
      "Collecting docx2pdf\n",
      "  Downloading docx2pdf-0.1.8-py3-none-any.whl.metadata (3.3 kB)\n",
      "Requirement already satisfied: pywin32>=227 in c:\\users\\ambar\\anaconda3\\lib\\site-packages (from docx2pdf) (305.1)\n",
      "Requirement already satisfied: tqdm>=4.41.0 in c:\\users\\ambar\\anaconda3\\lib\\site-packages (from docx2pdf) (4.66.5)\n",
      "Requirement already satisfied: colorama in c:\\users\\ambar\\anaconda3\\lib\\site-packages (from tqdm>=4.41.0->docx2pdf) (0.4.6)\n",
      "Downloading docx2pdf-0.1.8-py3-none-any.whl (6.7 kB)\n",
      "Installing collected packages: docx2pdf\n",
      "Successfully installed docx2pdf-0.1.8\n",
      "Note: you may need to restart the kernel to use updated packages.\n"
     ]
    }
   ],
   "source": [
    "pip install docx2pdf"
   ]
  },
  {
   "cell_type": "code",
   "execution_count": 2,
   "id": "82a70c38-d3e9-4882-b4f8-5bf501d87784",
   "metadata": {},
   "outputs": [
    {
     "data": {
      "application/vnd.jupyter.widget-view+json": {
       "model_id": "1d1a3e5ac246430bb2a4c96c254e5801",
       "version_major": 2,
       "version_minor": 0
      },
      "text/plain": [
       "  0%|          | 0/2 [00:00<?, ?it/s]"
      ]
     },
     "metadata": {},
     "output_type": "display_data"
    },
    {
     "ename": "AttributeError",
     "evalue": "Open.SaveAs",
     "output_type": "error",
     "traceback": [
      "\u001b[1;31m---------------------------------------------------------------------------\u001b[0m",
      "\u001b[1;31mAttributeError\u001b[0m                            Traceback (most recent call last)",
      "Cell \u001b[1;32mIn[2], line 2\u001b[0m\n\u001b[0;32m      1\u001b[0m \u001b[38;5;28;01mimport\u001b[39;00m \u001b[38;5;21;01mdocx2pdf\u001b[39;00m\n\u001b[1;32m----> 2\u001b[0m docx2pdf\u001b[38;5;241m.\u001b[39mconvert(\u001b[38;5;124m\"\u001b[39m\u001b[38;5;124mC:/Users/ambar/Projects/PPT to PDFs/doc1\u001b[39m\u001b[38;5;124m\"\u001b[39m,\u001b[38;5;124m\"\u001b[39m\u001b[38;5;124mC:/Users/ambar/Projects/PPT to PDFs/doc-pdf1\u001b[39m\u001b[38;5;124m\"\u001b[39m)\n",
      "File \u001b[1;32m~\\anaconda3\\Lib\\site-packages\\docx2pdf\\__init__.py:106\u001b[0m, in \u001b[0;36mconvert\u001b[1;34m(input_path, output_path, keep_active)\u001b[0m\n\u001b[0;32m    104\u001b[0m     \u001b[38;5;28;01mreturn\u001b[39;00m macos(paths, keep_active)\n\u001b[0;32m    105\u001b[0m \u001b[38;5;28;01melif\u001b[39;00m sys\u001b[38;5;241m.\u001b[39mplatform \u001b[38;5;241m==\u001b[39m \u001b[38;5;124m\"\u001b[39m\u001b[38;5;124mwin32\u001b[39m\u001b[38;5;124m\"\u001b[39m:\n\u001b[1;32m--> 106\u001b[0m     \u001b[38;5;28;01mreturn\u001b[39;00m windows(paths, keep_active)\n\u001b[0;32m    107\u001b[0m \u001b[38;5;28;01melse\u001b[39;00m:\n\u001b[0;32m    108\u001b[0m     \u001b[38;5;28;01mraise\u001b[39;00m \u001b[38;5;167;01mNotImplementedError\u001b[39;00m(\n\u001b[0;32m    109\u001b[0m         \u001b[38;5;124m\"\u001b[39m\u001b[38;5;124mdocx2pdf is not implemented for linux as it requires Microsoft Word to be installed\u001b[39m\u001b[38;5;124m\"\u001b[39m\n\u001b[0;32m    110\u001b[0m     )\n",
      "File \u001b[1;32m~\\anaconda3\\Lib\\site-packages\\docx2pdf\\__init__.py:26\u001b[0m, in \u001b[0;36mwindows\u001b[1;34m(paths, keep_active)\u001b[0m\n\u001b[0;32m     24\u001b[0m         pdf_filepath \u001b[38;5;241m=\u001b[39m Path(paths[\u001b[38;5;124m\"\u001b[39m\u001b[38;5;124moutput\u001b[39m\u001b[38;5;124m\"\u001b[39m]) \u001b[38;5;241m/\u001b[39m (\u001b[38;5;28mstr\u001b[39m(docx_filepath\u001b[38;5;241m.\u001b[39mstem) \u001b[38;5;241m+\u001b[39m \u001b[38;5;124m\"\u001b[39m\u001b[38;5;124m.pdf\u001b[39m\u001b[38;5;124m\"\u001b[39m)\n\u001b[0;32m     25\u001b[0m         doc \u001b[38;5;241m=\u001b[39m word\u001b[38;5;241m.\u001b[39mDocuments\u001b[38;5;241m.\u001b[39mOpen(\u001b[38;5;28mstr\u001b[39m(docx_filepath))\n\u001b[1;32m---> 26\u001b[0m         doc\u001b[38;5;241m.\u001b[39mSaveAs(\u001b[38;5;28mstr\u001b[39m(pdf_filepath), FileFormat\u001b[38;5;241m=\u001b[39mwdFormatPDF)\n\u001b[0;32m     27\u001b[0m         doc\u001b[38;5;241m.\u001b[39mClose(\u001b[38;5;241m0\u001b[39m)\n\u001b[0;32m     28\u001b[0m \u001b[38;5;28;01melse\u001b[39;00m:\n",
      "File \u001b[1;32m~\\anaconda3\\Lib\\site-packages\\win32com\\client\\dynamic.py:639\u001b[0m, in \u001b[0;36mCDispatch.__getattr__\u001b[1;34m(self, attr)\u001b[0m\n\u001b[0;32m    636\u001b[0m     \u001b[38;5;28;01mreturn\u001b[39;00m \u001b[38;5;28mself\u001b[39m\u001b[38;5;241m.\u001b[39m_get_good_object_(ret)\n\u001b[0;32m    638\u001b[0m \u001b[38;5;66;03m# no where else to look.\u001b[39;00m\n\u001b[1;32m--> 639\u001b[0m \u001b[38;5;28;01mraise\u001b[39;00m \u001b[38;5;167;01mAttributeError\u001b[39;00m(\u001b[38;5;124m\"\u001b[39m\u001b[38;5;132;01m%s\u001b[39;00m\u001b[38;5;124m.\u001b[39m\u001b[38;5;132;01m%s\u001b[39;00m\u001b[38;5;124m\"\u001b[39m \u001b[38;5;241m%\u001b[39m (\u001b[38;5;28mself\u001b[39m\u001b[38;5;241m.\u001b[39m_username_, attr))\n",
      "\u001b[1;31mAttributeError\u001b[0m: Open.SaveAs"
     ]
    }
   ],
   "source": [
    "import docx2pdf\n",
    "docx2pdf.convert(\"C:/Users/ambar/Projects/PPT to PDFs/doc1\",\"C:/Users/ambar/Projects/PPT to PDFs/doc-pdf1\")"
   ]
  },
  {
   "cell_type": "code",
   "execution_count": null,
   "id": "23b51005-3896-4ee9-8b88-b8cefd8b852f",
   "metadata": {},
   "outputs": [],
   "source": [
    "import docx2pdf\n",
    "docx2pdf.convert"
   ]
  },
  {
   "cell_type": "code",
   "execution_count": null,
   "id": "6de7342c-eb45-4cf5-afa7-6c7f24f70bad",
   "metadata": {},
   "outputs": [],
   "source": [
    "import os\n",
    "import comtypes.client\n",
    "\n",
    "def ppt_to_pdf(input_folder, output_folder):\n",
    "    # Ensure output folder exists\n",
    "    os.makedirs(output_folder, exist_ok=True)\n",
    "\n",
    "    # Initialize PowerPoint application\n",
    "    document = comtypes.client.CreateObject(\"Word.Application\")\n",
    "    #powerpoint.Visible = 1\n",
    "\n",
    "    for filename in os.listdir(input_folder):\n",
    "        if filename.endswith(\".doc\") or filename.endswith(\".docx\"):\n",
    "            full_path = os.path.join(input_folder, filename)\n",
    "            pdf_path = os.path.join(output_folder, os.path.splitext(filename)[0] + \".pdf\")\n",
    "            \n",
    "            doc = document.Documents.Open(full_path)\n",
    "            doc.SaveAs(pdf_path, FileFormat=17)  # 32 = PDF\n",
    "            doc.Close()\n",
    "\n",
    "    document.Quit()\n",
    "    print(\"Conversion completed!\")\n",
    "\n",
    "# Example usage\n",
    "ppt_to_pdf(\"C:\\\\Users\\\\ambar\\\\Projects\\\\PPT to PDFs\\\\doc\", \"C:\\\\Users\\\\ambar\\\\Projects\\\\excel to PDFs\\\\doc-pdf\")"
   ]
  },
  {
   "cell_type": "code",
   "execution_count": null,
   "id": "5f663283-48dc-4514-94bf-295b11b33783",
   "metadata": {},
   "outputs": [],
   "source": [
    "import comtypes.client\n",
    "import os\n",
    "\n",
    "input_folder = \"path/to/your/word_files\"  # Replace with your input folder\n",
    "output_folder = \"path/to/your/pdf_output\"  # Replace with your output folder\n",
    "\n",
    "# Create output folder if it doesn't exist\n",
    "#os.makedirs(output_folder, exist_ok=True)\n",
    "\n",
    "word = comtypes.client.CreateObject(\"Word.Application\")\n",
    "word.Visible = False  # Set to True for debugging\n",
    "\n",
    "for filename in os.listdir(input_folder):\n",
    "    if filename.endswith(\".docx\") or filename.endswith(\".doc\"):\n",
    "        input_path = os.path.join(input_folder, filename)\n",
    "        output_filename = os.path.splitext(filename)[0] + \".pdf\"\n",
    "        output_path = os.path.join(output_folder, output_filename)\n",
    "\n",
    "        try:\n",
    "            doc = word.Documents.Open(input_path)\n",
    "            doc.SaveAs(output_path, FileFormat=17)  # 17 is the PDF format code\n",
    "            doc.Close()\n",
    "            print(f\"Converted: {filename} to {output_filename}\")\n",
    "        except Exception as e:\n",
    "            print(f\"Error converting {filename}: {e}\")\n",
    "\n",
    "word.Quit()"
   ]
  }
 ],
 "metadata": {
  "kernelspec": {
   "display_name": "Python 3 (ipykernel)",
   "language": "python",
   "name": "python3"
  },
  "language_info": {
   "codemirror_mode": {
    "name": "ipython",
    "version": 3
   },
   "file_extension": ".py",
   "mimetype": "text/x-python",
   "name": "python",
   "nbconvert_exporter": "python",
   "pygments_lexer": "ipython3",
   "version": "3.12.7"
  }
 },
 "nbformat": 4,
 "nbformat_minor": 5
}
