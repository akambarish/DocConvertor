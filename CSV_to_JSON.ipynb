{
 "cells": [
  {
   "cell_type": "code",
   "execution_count": null,
   "id": "448b43c5-dd5d-4881-9ed1-ba8efbac9ec7",
   "metadata": {},
   "outputs": [],
   "source": [
    "import csv\n",
    "import json\n",
    "import os\n",
    "\n",
    "def csv_to_json(csv_file_path, json_file_path):\n",
    "    try:\n",
    "        data = []\n",
    "        with open(csv_file_path, mode='r', encoding='utf-8') as csv_file:\n",
    "            reader = csv.DictReader(csv_file)\n",
    "            for row in reader:\n",
    "                data.append(row)\n",
    "\n",
    "        with open(json_file_path, mode='w', encoding='utf-8') as json_file:\n",
    "            json.dump(data, json_file, indent=4)\n",
    "\n",
    "        print(f\"Successfully converted '{csv_file_path}' to '{json_file_path}'.\")\n",
    "\n",
    "    except Exception as e:\n",
    "        print(f\"Error: {e}\")\n",
    "\n",
    "# Example usage\n",
    "csv_file = 'example.csv'         # Path to your CSV file\n",
    "json_file = 'output.json'        # Desired output JSON path\n",
    "csv_to_json(csv_file, json_file)\n"
   ]
  }
 ],
 "metadata": {
  "kernelspec": {
   "display_name": "Python 3 (ipykernel)",
   "language": "python",
   "name": "python3"
  },
  "language_info": {
   "codemirror_mode": {
    "name": "ipython",
    "version": 3
   },
   "file_extension": ".py",
   "mimetype": "text/x-python",
   "name": "python",
   "nbconvert_exporter": "python",
   "pygments_lexer": "ipython3",
   "version": "3.12.7"
  }
 },
 "nbformat": 4,
 "nbformat_minor": 5
}
