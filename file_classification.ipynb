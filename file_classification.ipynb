{
 "cells": [
  {
   "cell_type": "code",
   "execution_count": null,
   "id": "5a449c7f-6ed0-4007-a0b8-a2171bf6e46c",
   "metadata": {},
   "outputs": [],
   "source": []
  },
  {
   "cell_type": "code",
   "execution_count": 1,
   "id": "3edaeae1-1d8a-4d27-ad4e-acb9818ac2df",
   "metadata": {},
   "outputs": [
    {
     "name": "stdout",
     "output_type": "stream",
     "text": [
      "Files have been categorized successfully.\n"
     ]
    }
   ],
   "source": [
    "# For categorizing files in their extension category.\n",
    "\n",
    "import os\n",
    "import shutil\n",
    "\n",
    "# Source directory to search files\n",
    "source_dir = r'C:\\Users\\ambar\\Projects\\PPT to PDFs\\combined folder'  # <-- change this\n",
    "# Output directory where categorized folders will be created\n",
    "destination_dir = r'C:\\Users\\ambar\\Projects\\PPT to PDFs\\seggregated-FIles'  # <-- change this\n",
    "\n",
    "# Define file type mapping\n",
    "file_types = {\n",
    "    \"Word_Files\": [\".doc\", \".docx\"],\n",
    "    \"PPT_Files\": [\".ppt\", \".pptx\"],\n",
    "    \"Excel_Files\": [\".xls\", \".xlsx\", \".xlsm\"],\n",
    "    \"PDF_Files\": [\".pdf\"]\n",
    "}\n",
    "\n",
    "# Create destination folders if not exist\n",
    "for folder_name in file_types.keys():\n",
    "    os.makedirs(os.path.join(destination_dir, folder_name), exist_ok=True)\n",
    "\n",
    "# Walk through all subdirectories and files\n",
    "for root, _, files in os.walk(source_dir):\n",
    "    for file in files:\n",
    "        file_ext = os.path.splitext(file)[1].lower()\n",
    "        source_path = os.path.join(root, file)\n",
    "\n",
    "        for folder_name, extensions in file_types.items():\n",
    "            if file_ext in extensions:\n",
    "                dest_path = os.path.join(destination_dir, folder_name, file)\n",
    "\n",
    "                # Handle duplicate filenames\n",
    "                base_name, ext = os.path.splitext(file)\n",
    "                counter = 1\n",
    "                while os.path.exists(dest_path):\n",
    "                    dest_path = os.path.join(destination_dir, folder_name, f\"{base_name}_{counter}{ext}\")\n",
    "                    counter += 1\n",
    "\n",
    "                shutil.copy2(source_path, dest_path)\n",
    "                break  # move to next file once matched\n",
    "\n",
    "print(\"Files have been categorized successfully.\")"
   ]
  },
  {
   "cell_type": "code",
   "execution_count": null,
   "id": "7a4d7c86-9a99-4a60-98fa-96be8cac107d",
   "metadata": {},
   "outputs": [],
   "source": []
  }
 ],
 "metadata": {
  "kernelspec": {
   "display_name": "Python 3 (ipykernel)",
   "language": "python",
   "name": "python3"
  },
  "language_info": {
   "codemirror_mode": {
    "name": "ipython",
    "version": 3
   },
   "file_extension": ".py",
   "mimetype": "text/x-python",
   "name": "python",
   "nbconvert_exporter": "python",
   "pygments_lexer": "ipython3",
   "version": "3.12.7"
  }
 },
 "nbformat": 4,
 "nbformat_minor": 5
}
